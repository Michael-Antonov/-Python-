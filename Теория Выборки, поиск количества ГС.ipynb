{
 "cells": [
  {
   "cell_type": "code",
   "execution_count": 6,
   "id": "890eddb5",
   "metadata": {},
   "outputs": [],
   "source": [
    "import pandas as pd"
   ]
  },
  {
   "cell_type": "markdown",
   "id": "bd56c22a",
   "metadata": {},
   "source": [
    "# Импортируем файл и убедимся в его целостности"
   ]
  },
  {
   "cell_type": "code",
   "execution_count": 7,
   "id": "a0ef55b1",
   "metadata": {},
   "outputs": [],
   "source": [
    "df = pd.read_excel('C:/Users/anton/OneDrive/Рабочий стол/Учеба 3 курс, 5 семестр/Выборка и Оценка рисков/Расходы страховой организации.xlsx', sheet_name = 'Условие')"
   ]
  },
  {
   "cell_type": "code",
   "execution_count": 8,
   "id": "813e9f07",
   "metadata": {
    "scrolled": true
   },
   "outputs": [
    {
     "data": {
      "text/html": [
       "<div>\n",
       "<style scoped>\n",
       "    .dataframe tbody tr th:only-of-type {\n",
       "        vertical-align: middle;\n",
       "    }\n",
       "\n",
       "    .dataframe tbody tr th {\n",
       "        vertical-align: top;\n",
       "    }\n",
       "\n",
       "    .dataframe thead th {\n",
       "        text-align: right;\n",
       "    }\n",
       "</style>\n",
       "<table border=\"1\" class=\"dataframe\">\n",
       "  <thead>\n",
       "    <tr style=\"text-align: right;\">\n",
       "      <th></th>\n",
       "      <th>COMPANY_NAME</th>\n",
       "      <th>GROUP</th>\n",
       "      <th>MUTUAL</th>\n",
       "      <th>STOCK</th>\n",
       "      <th>RBC</th>\n",
       "      <th>EXPENSES</th>\n",
       "      <th>STAFFWAGE</th>\n",
       "      <th>AGENTWAGE</th>\n",
       "      <th>LONGLOSS</th>\n",
       "      <th>SHORTLOSS</th>\n",
       "      <th>GPWPERSONAL</th>\n",
       "      <th>GPWCOMM</th>\n",
       "      <th>ASSETS</th>\n",
       "      <th>CASH</th>\n",
       "      <th>LIQUIDRATIO</th>\n",
       "      <th>Unnamed: 15</th>\n",
       "      <th>Файл содержит выгрузку части базы данных надзорных органов США</th>\n",
       "      <th>Unnamed: 17</th>\n",
       "    </tr>\n",
       "  </thead>\n",
       "  <tbody>\n",
       "    <tr>\n",
       "      <th>0</th>\n",
       "      <td>Tift Area Captive Ins Co</td>\n",
       "      <td>0</td>\n",
       "      <td>0</td>\n",
       "      <td>1</td>\n",
       "      <td>228184000</td>\n",
       "      <td>0.000802</td>\n",
       "      <td>84.405080</td>\n",
       "      <td>77.460997</td>\n",
       "      <td>0.000187</td>\n",
       "      <td>0.000000</td>\n",
       "      <td>0.000000</td>\n",
       "      <td>0.001375</td>\n",
       "      <td>0.002950</td>\n",
       "      <td>0.003258</td>\n",
       "      <td>110.456606</td>\n",
       "      <td>NaN</td>\n",
       "      <td>Всего в базе данных 3000 компаний</td>\n",
       "      <td>NaN</td>\n",
       "    </tr>\n",
       "    <tr>\n",
       "      <th>1</th>\n",
       "      <td>Alliance Of Nonprofits For Ins RRG</td>\n",
       "      <td>0</td>\n",
       "      <td>0</td>\n",
       "      <td>0</td>\n",
       "      <td>1627708000</td>\n",
       "      <td>0.004488</td>\n",
       "      <td>81.567543</td>\n",
       "      <td>84.878023</td>\n",
       "      <td>0.002782</td>\n",
       "      <td>0.000000</td>\n",
       "      <td>0.000000</td>\n",
       "      <td>0.012273</td>\n",
       "      <td>0.022170</td>\n",
       "      <td>0.019760</td>\n",
       "      <td>89.129615</td>\n",
       "      <td>NaN</td>\n",
       "      <td>Компании страхования иного чем страхование жизни</td>\n",
       "      <td>NaN</td>\n",
       "    </tr>\n",
       "    <tr>\n",
       "      <th>2</th>\n",
       "      <td>GA Timber Harvesters Mut Captive</td>\n",
       "      <td>0</td>\n",
       "      <td>1</td>\n",
       "      <td>0</td>\n",
       "      <td>422907000</td>\n",
       "      <td>0.001905</td>\n",
       "      <td>84.405080</td>\n",
       "      <td>77.460997</td>\n",
       "      <td>0.001012</td>\n",
       "      <td>0.001330</td>\n",
       "      <td>0.000000</td>\n",
       "      <td>0.005028</td>\n",
       "      <td>0.004617</td>\n",
       "      <td>0.003500</td>\n",
       "      <td>75.794716</td>\n",
       "      <td>NaN</td>\n",
       "      <td>Данные о расходах по отчетности 2005 года</td>\n",
       "      <td>NaN</td>\n",
       "    </tr>\n",
       "    <tr>\n",
       "      <th>3</th>\n",
       "      <td>American Natl Lloyds Ins Co</td>\n",
       "      <td>1</td>\n",
       "      <td>0</td>\n",
       "      <td>0</td>\n",
       "      <td>652906000</td>\n",
       "      <td>0.002291</td>\n",
       "      <td>82.497883</td>\n",
       "      <td>75.710707</td>\n",
       "      <td>0.000000</td>\n",
       "      <td>0.002980</td>\n",
       "      <td>0.029545</td>\n",
       "      <td>0.001986</td>\n",
       "      <td>0.043720</td>\n",
       "      <td>0.040935</td>\n",
       "      <td>93.629838</td>\n",
       "      <td>NaN</td>\n",
       "      <td>NaN</td>\n",
       "      <td>NaN</td>\n",
       "    </tr>\n",
       "    <tr>\n",
       "      <th>4</th>\n",
       "      <td>Chubb Natl Ins Co</td>\n",
       "      <td>1</td>\n",
       "      <td>0</td>\n",
       "      <td>1</td>\n",
       "      <td>8124624000</td>\n",
       "      <td>0.018296</td>\n",
       "      <td>79.264952</td>\n",
       "      <td>78.247902</td>\n",
       "      <td>0.010794</td>\n",
       "      <td>0.011777</td>\n",
       "      <td>0.040614</td>\n",
       "      <td>0.058094</td>\n",
       "      <td>0.144773</td>\n",
       "      <td>0.138424</td>\n",
       "      <td>95.614597</td>\n",
       "      <td>NaN</td>\n",
       "      <td>COMPANY_NAME</td>\n",
       "      <td>Наименование компании</td>\n",
       "    </tr>\n",
       "    <tr>\n",
       "      <th>...</th>\n",
       "      <td>...</td>\n",
       "      <td>...</td>\n",
       "      <td>...</td>\n",
       "      <td>...</td>\n",
       "      <td>...</td>\n",
       "      <td>...</td>\n",
       "      <td>...</td>\n",
       "      <td>...</td>\n",
       "      <td>...</td>\n",
       "      <td>...</td>\n",
       "      <td>...</td>\n",
       "      <td>...</td>\n",
       "      <td>...</td>\n",
       "      <td>...</td>\n",
       "      <td>...</td>\n",
       "      <td>...</td>\n",
       "      <td>...</td>\n",
       "      <td>...</td>\n",
       "    </tr>\n",
       "    <tr>\n",
       "      <th>358</th>\n",
       "      <td>Mental Health RRG</td>\n",
       "      <td>0</td>\n",
       "      <td>0</td>\n",
       "      <td>0</td>\n",
       "      <td>1099333000</td>\n",
       "      <td>0.000882</td>\n",
       "      <td>81.567543</td>\n",
       "      <td>76.628884</td>\n",
       "      <td>0.000504</td>\n",
       "      <td>0.000000</td>\n",
       "      <td>0.000000</td>\n",
       "      <td>0.007049</td>\n",
       "      <td>0.011917</td>\n",
       "      <td>0.012278</td>\n",
       "      <td>103.035344</td>\n",
       "      <td>NaN</td>\n",
       "      <td>NaN</td>\n",
       "      <td>NaN</td>\n",
       "    </tr>\n",
       "    <tr>\n",
       "      <th>359</th>\n",
       "      <td>Admiral Ind Co</td>\n",
       "      <td>1</td>\n",
       "      <td>0</td>\n",
       "      <td>1</td>\n",
       "      <td>1940363000</td>\n",
       "      <td>0.003465</td>\n",
       "      <td>91.150043</td>\n",
       "      <td>94.008801</td>\n",
       "      <td>0.000269</td>\n",
       "      <td>0.004717</td>\n",
       "      <td>0.000322</td>\n",
       "      <td>0.050820</td>\n",
       "      <td>0.058493</td>\n",
       "      <td>0.050614</td>\n",
       "      <td>86.529408</td>\n",
       "      <td>NaN</td>\n",
       "      <td>NaN</td>\n",
       "      <td>NaN</td>\n",
       "    </tr>\n",
       "    <tr>\n",
       "      <th>360</th>\n",
       "      <td>Imperial Fire &amp; Cas Ins Co</td>\n",
       "      <td>0</td>\n",
       "      <td>0</td>\n",
       "      <td>1</td>\n",
       "      <td>3380942000</td>\n",
       "      <td>0.014602</td>\n",
       "      <td>73.101451</td>\n",
       "      <td>67.526466</td>\n",
       "      <td>0.015846</td>\n",
       "      <td>0.004311</td>\n",
       "      <td>0.032965</td>\n",
       "      <td>0.018391</td>\n",
       "      <td>0.051569</td>\n",
       "      <td>0.046355</td>\n",
       "      <td>89.890202</td>\n",
       "      <td>NaN</td>\n",
       "      <td>NaN</td>\n",
       "      <td>NaN</td>\n",
       "    </tr>\n",
       "    <tr>\n",
       "      <th>361</th>\n",
       "      <td>Yel Co Ins</td>\n",
       "      <td>0</td>\n",
       "      <td>0</td>\n",
       "      <td>1</td>\n",
       "      <td>146485000</td>\n",
       "      <td>0.000028</td>\n",
       "      <td>80.055741</td>\n",
       "      <td>73.469482</td>\n",
       "      <td>0.000092</td>\n",
       "      <td>0.000000</td>\n",
       "      <td>0.000000</td>\n",
       "      <td>0.001076</td>\n",
       "      <td>0.010154</td>\n",
       "      <td>0.011307</td>\n",
       "      <td>111.351476</td>\n",
       "      <td>NaN</td>\n",
       "      <td>NaN</td>\n",
       "      <td>NaN</td>\n",
       "    </tr>\n",
       "    <tr>\n",
       "      <th>362</th>\n",
       "      <td>Progressive Paloverde Ins Co</td>\n",
       "      <td>1</td>\n",
       "      <td>0</td>\n",
       "      <td>1</td>\n",
       "      <td>1245972000</td>\n",
       "      <td>0.004609</td>\n",
       "      <td>79.264952</td>\n",
       "      <td>69.432365</td>\n",
       "      <td>0.004210</td>\n",
       "      <td>0.003189</td>\n",
       "      <td>0.035527</td>\n",
       "      <td>0.022348</td>\n",
       "      <td>0.036147</td>\n",
       "      <td>0.028463</td>\n",
       "      <td>78.743424</td>\n",
       "      <td>NaN</td>\n",
       "      <td>NaN</td>\n",
       "      <td>NaN</td>\n",
       "    </tr>\n",
       "  </tbody>\n",
       "</table>\n",
       "<p>363 rows × 18 columns</p>\n",
       "</div>"
      ],
      "text/plain": [
       "                           COMPANY_NAME  GROUP  MUTUAL  STOCK         RBC  \\\n",
       "0              Tift Area Captive Ins Co      0       0      1   228184000   \n",
       "1    Alliance Of Nonprofits For Ins RRG      0       0      0  1627708000   \n",
       "2      GA Timber Harvesters Mut Captive      0       1      0   422907000   \n",
       "3           American Natl Lloyds Ins Co      1       0      0   652906000   \n",
       "4                     Chubb Natl Ins Co      1       0      1  8124624000   \n",
       "..                                  ...    ...     ...    ...         ...   \n",
       "358                   Mental Health RRG      0       0      0  1099333000   \n",
       "359                      Admiral Ind Co      1       0      1  1940363000   \n",
       "360          Imperial Fire & Cas Ins Co      0       0      1  3380942000   \n",
       "361                          Yel Co Ins      0       0      1   146485000   \n",
       "362        Progressive Paloverde Ins Co      1       0      1  1245972000   \n",
       "\n",
       "     EXPENSES  STAFFWAGE  AGENTWAGE  LONGLOSS  SHORTLOSS  GPWPERSONAL  \\\n",
       "0    0.000802  84.405080  77.460997  0.000187   0.000000     0.000000   \n",
       "1    0.004488  81.567543  84.878023  0.002782   0.000000     0.000000   \n",
       "2    0.001905  84.405080  77.460997  0.001012   0.001330     0.000000   \n",
       "3    0.002291  82.497883  75.710707  0.000000   0.002980     0.029545   \n",
       "4    0.018296  79.264952  78.247902  0.010794   0.011777     0.040614   \n",
       "..        ...        ...        ...       ...        ...          ...   \n",
       "358  0.000882  81.567543  76.628884  0.000504   0.000000     0.000000   \n",
       "359  0.003465  91.150043  94.008801  0.000269   0.004717     0.000322   \n",
       "360  0.014602  73.101451  67.526466  0.015846   0.004311     0.032965   \n",
       "361  0.000028  80.055741  73.469482  0.000092   0.000000     0.000000   \n",
       "362  0.004609  79.264952  69.432365  0.004210   0.003189     0.035527   \n",
       "\n",
       "      GPWCOMM    ASSETS      CASH LIQUIDRATIO  Unnamed: 15  \\\n",
       "0    0.001375  0.002950  0.003258  110.456606          NaN   \n",
       "1    0.012273  0.022170  0.019760   89.129615          NaN   \n",
       "2    0.005028  0.004617  0.003500   75.794716          NaN   \n",
       "3    0.001986  0.043720  0.040935   93.629838          NaN   \n",
       "4    0.058094  0.144773  0.138424   95.614597          NaN   \n",
       "..        ...       ...       ...         ...          ...   \n",
       "358  0.007049  0.011917  0.012278  103.035344          NaN   \n",
       "359  0.050820  0.058493  0.050614   86.529408          NaN   \n",
       "360  0.018391  0.051569  0.046355   89.890202          NaN   \n",
       "361  0.001076  0.010154  0.011307  111.351476          NaN   \n",
       "362  0.022348  0.036147  0.028463   78.743424          NaN   \n",
       "\n",
       "    Файл содержит выгрузку части базы данных надзорных органов США   \\\n",
       "0                    Всего в базе данных 3000 компаний                \n",
       "1     Компании страхования иного чем страхование жизни                \n",
       "2            Данные о расходах по отчетности 2005 года                \n",
       "3                                                  NaN                \n",
       "4                                         COMPANY_NAME                \n",
       "..                                                 ...                \n",
       "358                                                NaN                \n",
       "359                                                NaN                \n",
       "360                                                NaN                \n",
       "361                                                NaN                \n",
       "362                                                NaN                \n",
       "\n",
       "               Unnamed: 17  \n",
       "0                      NaN  \n",
       "1                      NaN  \n",
       "2                      NaN  \n",
       "3                      NaN  \n",
       "4    Наименование компании  \n",
       "..                     ...  \n",
       "358                    NaN  \n",
       "359                    NaN  \n",
       "360                    NaN  \n",
       "361                    NaN  \n",
       "362                    NaN  \n",
       "\n",
       "[363 rows x 18 columns]"
      ]
     },
     "execution_count": 8,
     "metadata": {},
     "output_type": "execute_result"
    }
   ],
   "source": [
    "df"
   ]
  },
  {
   "cell_type": "code",
   "execution_count": 9,
   "id": "d67aa69a",
   "metadata": {
    "scrolled": true
   },
   "outputs": [
    {
     "name": "stdout",
     "output_type": "stream",
     "text": [
      "<class 'pandas.core.frame.DataFrame'>\n",
      "RangeIndex: 363 entries, 0 to 362\n",
      "Data columns (total 18 columns):\n",
      " #   Column                                                           Non-Null Count  Dtype  \n",
      "---  ------                                                           --------------  -----  \n",
      " 0   COMPANY_NAME                                                     363 non-null    object \n",
      " 1   GROUP                                                            363 non-null    int64  \n",
      " 2   MUTUAL                                                           363 non-null    int64  \n",
      " 3   STOCK                                                            363 non-null    int64  \n",
      " 4   RBC                                                              363 non-null    int64  \n",
      " 5   EXPENSES                                                         363 non-null    float64\n",
      " 6   STAFFWAGE                                                        363 non-null    float64\n",
      " 7   AGENTWAGE                                                        363 non-null    float64\n",
      " 8   LONGLOSS                                                         363 non-null    float64\n",
      " 9   SHORTLOSS                                                        363 non-null    float64\n",
      " 10  GPWPERSONAL                                                      363 non-null    float64\n",
      " 11  GPWCOMM                                                          363 non-null    float64\n",
      " 12  ASSETS                                                           363 non-null    float64\n",
      " 13  CASH                                                             363 non-null    float64\n",
      " 14  LIQUIDRATIO                                                      363 non-null    object \n",
      " 15  Unnamed: 15                                                      0 non-null      float64\n",
      " 16  Файл содержит выгрузку части базы данных надзорных органов США   18 non-null     object \n",
      " 17  Unnamed: 17                                                      15 non-null     object \n",
      "dtypes: float64(10), int64(4), object(4)\n",
      "memory usage: 51.2+ KB\n"
     ]
    }
   ],
   "source": [
    "df.info()"
   ]
  },
  {
   "cell_type": "markdown",
   "id": "a335167c",
   "metadata": {},
   "source": [
    "# Условие задачи"
   ]
  },
  {
   "cell_type": "markdown",
   "id": "5b58a48a",
   "metadata": {},
   "source": [
    "Задача 2.2. Оцените минимальный объем выборки на основе средней потребности в капитале и на основе доли компаний, у которых потребность в капитале превышает 1 млрд. долларов США. Сначала проделайте это для условия, что отклонения не должны превышать 5% от среднего, а затем для условий в терминах средней и предельной ошибки выборки. Последние условия нужно сформулировать самостоятельно, обосновав свой выбор. Сравните полученные результаты относительно объемов выборки. Достаточен ли фактический объем?\n"
   ]
  },
  {
   "cell_type": "markdown",
   "id": "d0645283",
   "metadata": {},
   "source": [
    "## №1 Решим в терминах, что отклонения не должны превышать 5% от среднего"
   ]
  },
  {
   "cell_type": "code",
   "execution_count": 11,
   "id": "1eb6db29",
   "metadata": {},
   "outputs": [],
   "source": [
    "# Определеим необходимые вводные данные\n"
   ]
  },
  {
   "cell_type": "markdown",
   "id": "555f4328",
   "metadata": {},
   "source": [
    "**Вводные данные:**\n",
    "\n",
    "**Объем выборки:** 363\n",
    "\n",
    "**Объем ГС:** 3000\n",
    "\n",
    "**x**: RBC > 1 млрд\n",
    "\n",
    "**r** = 0,05\n",
    "\n",
    "**(Самостоятельно ввел) Вероятность ошибки первого рода:** a = 0,05\n",
    "\n",
    "**y** = 1-a = 0,95"
   ]
  },
  {
   "cell_type": "markdown",
   "id": "07cb6616",
   "metadata": {},
   "source": [
    "## Произведем необходимые рассчеты"
   ]
  },
  {
   "cell_type": "code",
   "execution_count": 68,
   "id": "4aae37c4",
   "metadata": {
    "scrolled": true
   },
   "outputs": [
    {
     "ename": "KeyError",
     "evalue": "'110.456606'",
     "output_type": "error",
     "traceback": [
      "\u001b[1;31m---------------------------------------------------------------------------\u001b[0m",
      "\u001b[1;31mKeyError\u001b[0m                                  Traceback (most recent call last)",
      "File \u001b[1;32m~\\anaconda3\\lib\\site-packages\\pandas\\core\\indexes\\base.py:3621\u001b[0m, in \u001b[0;36mIndex.get_loc\u001b[1;34m(self, key, method, tolerance)\u001b[0m\n\u001b[0;32m   3620\u001b[0m \u001b[38;5;28;01mtry\u001b[39;00m:\n\u001b[1;32m-> 3621\u001b[0m     \u001b[38;5;28;01mreturn\u001b[39;00m \u001b[38;5;28;43mself\u001b[39;49m\u001b[38;5;241;43m.\u001b[39;49m\u001b[43m_engine\u001b[49m\u001b[38;5;241;43m.\u001b[39;49m\u001b[43mget_loc\u001b[49m\u001b[43m(\u001b[49m\u001b[43mcasted_key\u001b[49m\u001b[43m)\u001b[49m\n\u001b[0;32m   3622\u001b[0m \u001b[38;5;28;01mexcept\u001b[39;00m \u001b[38;5;167;01mKeyError\u001b[39;00m \u001b[38;5;28;01mas\u001b[39;00m err:\n",
      "File \u001b[1;32m~\\anaconda3\\lib\\site-packages\\pandas\\_libs\\index.pyx:136\u001b[0m, in \u001b[0;36mpandas._libs.index.IndexEngine.get_loc\u001b[1;34m()\u001b[0m\n",
      "File \u001b[1;32m~\\anaconda3\\lib\\site-packages\\pandas\\_libs\\index.pyx:163\u001b[0m, in \u001b[0;36mpandas._libs.index.IndexEngine.get_loc\u001b[1;34m()\u001b[0m\n",
      "File \u001b[1;32mpandas\\_libs\\hashtable_class_helper.pxi:5198\u001b[0m, in \u001b[0;36mpandas._libs.hashtable.PyObjectHashTable.get_item\u001b[1;34m()\u001b[0m\n",
      "File \u001b[1;32mpandas\\_libs\\hashtable_class_helper.pxi:5206\u001b[0m, in \u001b[0;36mpandas._libs.hashtable.PyObjectHashTable.get_item\u001b[1;34m()\u001b[0m\n",
      "\u001b[1;31mKeyError\u001b[0m: '110.456606'",
      "\nThe above exception was the direct cause of the following exception:\n",
      "\u001b[1;31mKeyError\u001b[0m                                  Traceback (most recent call last)",
      "Input \u001b[1;32mIn [68]\u001b[0m, in \u001b[0;36m<cell line: 1>\u001b[1;34m()\u001b[0m\n\u001b[1;32m----> 1\u001b[0m n \u001b[38;5;241m=\u001b[39m df[\u001b[43mdf\u001b[49m\u001b[43m[\u001b[49m\u001b[38;5;124;43m'\u001b[39;49m\u001b[38;5;124;43m110.456606\u001b[39;49m\u001b[38;5;124;43m'\u001b[39;49m\u001b[43m]\u001b[49m\u001b[38;5;241m>\u001b[39m \u001b[38;5;241m1000000000\u001b[39m]\u001b[38;5;241m.\u001b[39mshape[\u001b[38;5;241m0\u001b[39m]\n\u001b[0;32m      2\u001b[0m \u001b[38;5;28mprint\u001b[39m(\u001b[38;5;124m\"\u001b[39m\u001b[38;5;124mКоличество компаний с RBC больше 1 млн:\u001b[39m\u001b[38;5;124m\"\u001b[39m, n)\n",
      "File \u001b[1;32m~\\anaconda3\\lib\\site-packages\\pandas\\core\\frame.py:3505\u001b[0m, in \u001b[0;36mDataFrame.__getitem__\u001b[1;34m(self, key)\u001b[0m\n\u001b[0;32m   3503\u001b[0m \u001b[38;5;28;01mif\u001b[39;00m \u001b[38;5;28mself\u001b[39m\u001b[38;5;241m.\u001b[39mcolumns\u001b[38;5;241m.\u001b[39mnlevels \u001b[38;5;241m>\u001b[39m \u001b[38;5;241m1\u001b[39m:\n\u001b[0;32m   3504\u001b[0m     \u001b[38;5;28;01mreturn\u001b[39;00m \u001b[38;5;28mself\u001b[39m\u001b[38;5;241m.\u001b[39m_getitem_multilevel(key)\n\u001b[1;32m-> 3505\u001b[0m indexer \u001b[38;5;241m=\u001b[39m \u001b[38;5;28;43mself\u001b[39;49m\u001b[38;5;241;43m.\u001b[39;49m\u001b[43mcolumns\u001b[49m\u001b[38;5;241;43m.\u001b[39;49m\u001b[43mget_loc\u001b[49m\u001b[43m(\u001b[49m\u001b[43mkey\u001b[49m\u001b[43m)\u001b[49m\n\u001b[0;32m   3506\u001b[0m \u001b[38;5;28;01mif\u001b[39;00m is_integer(indexer):\n\u001b[0;32m   3507\u001b[0m     indexer \u001b[38;5;241m=\u001b[39m [indexer]\n",
      "File \u001b[1;32m~\\anaconda3\\lib\\site-packages\\pandas\\core\\indexes\\base.py:3623\u001b[0m, in \u001b[0;36mIndex.get_loc\u001b[1;34m(self, key, method, tolerance)\u001b[0m\n\u001b[0;32m   3621\u001b[0m     \u001b[38;5;28;01mreturn\u001b[39;00m \u001b[38;5;28mself\u001b[39m\u001b[38;5;241m.\u001b[39m_engine\u001b[38;5;241m.\u001b[39mget_loc(casted_key)\n\u001b[0;32m   3622\u001b[0m \u001b[38;5;28;01mexcept\u001b[39;00m \u001b[38;5;167;01mKeyError\u001b[39;00m \u001b[38;5;28;01mas\u001b[39;00m err:\n\u001b[1;32m-> 3623\u001b[0m     \u001b[38;5;28;01mraise\u001b[39;00m \u001b[38;5;167;01mKeyError\u001b[39;00m(key) \u001b[38;5;28;01mfrom\u001b[39;00m \u001b[38;5;21;01merr\u001b[39;00m\n\u001b[0;32m   3624\u001b[0m \u001b[38;5;28;01mexcept\u001b[39;00m \u001b[38;5;167;01mTypeError\u001b[39;00m:\n\u001b[0;32m   3625\u001b[0m     \u001b[38;5;66;03m# If we have a listlike key, _check_indexing_error will raise\u001b[39;00m\n\u001b[0;32m   3626\u001b[0m     \u001b[38;5;66;03m#  InvalidIndexError. Otherwise we fall through and re-raise\u001b[39;00m\n\u001b[0;32m   3627\u001b[0m     \u001b[38;5;66;03m#  the TypeError.\u001b[39;00m\n\u001b[0;32m   3628\u001b[0m     \u001b[38;5;28mself\u001b[39m\u001b[38;5;241m.\u001b[39m_check_indexing_error(key)\n",
      "\u001b[1;31mKeyError\u001b[0m: '110.456606'"
     ]
    }
   ],
   "source": [
    "n = df[df['110.456606']> 1000000000].shape[0]\n",
    "print(\"Количество компаний с RBC больше 1 млн:\", n)"
   ]
  },
  {
   "cell_type": "code",
   "execution_count": 95,
   "id": "74a9312b",
   "metadata": {},
   "outputs": [
    {
     "data": {
      "text/plain": [
       "(array([1., 1., 0., 0., 0., 0., 0., 0., 0., 1.]),\n",
       " array([2.2818400e+08, 3.6813640e+08, 5.0808880e+08, 6.4804120e+08,\n",
       "        7.8799360e+08, 9.2794600e+08, 1.0678984e+09, 1.2078508e+09,\n",
       "        1.3478032e+09, 1.4877556e+09, 1.6277080e+09]),\n",
       " <BarContainer object of 10 artists>)"
      ]
     },
     "execution_count": 95,
     "metadata": {},
     "output_type": "execute_result"
    },
    {
     "data": {
      "image/png": "[encoded data removed]",
      "text/plain": [
       "<Figure size 432x288 with 1 Axes>"
      ]
     },
     "metadata": {
      "needs_background": "light"
     },
     "output_type": "display_data"
    }
   ],
   "source": [
    "# Посмотрим на график распределения RBC \n",
    "import seaborn as sns\n",
    "bbb = df['RBC'].values\n",
    "\n",
    "\"\"\"sns_plot = sns.distplot(bbb['RBC'])\n",
    "fig = sns_plot.get_figure()\"\"\"\n",
    "cccc = bbb[:3]\n",
    "plt.hist(cccc) "
   ]
  },
  {
   "cell_type": "code",
   "execution_count": 89,
   "id": "1d2b9423",
   "metadata": {},
   "outputs": [
    {
     "name": "stdout",
     "output_type": "stream",
     "text": [
      "Дисперсия = 5.37810257895051e+21\n",
      "СКО = 73335547853.34674\n",
      "Среднее выборочное = 22228005774.104683  \n"
     ]
    }
   ],
   "source": [
    "# Рассчитаем дисперсию и СКО и среднее выборочное \n",
    "import numpy as np\n",
    "RBC_column = df['RBC']\n",
    "D = np.var(RBC_column, ddof = 1 )\n",
    "Standard_deviation = D**0.5\n",
    "u = RBC_column.mean()\n",
    "print(f\"Дисперсия = {D}\\nСКО = {Standard_deviation}\\nСреднее выборочное = {u}  \")"
   ]
  },
  {
   "attachments": {
    "image.png": {
     "image/png": "[encoded data removed]"
    }
   },
   "cell_type": "markdown",
   "id": "87b9ab98",
   "metadata": {},
   "source": [
    "По формуле найдем минимальное значение выборки\n",
    "![image.png](attachment:image.png)"
   ]
  },
  {
   "cell_type": "code",
   "execution_count": 21,
   "id": "db37c8a2",
   "metadata": {},
   "outputs": [
    {
     "name": "stdout",
     "output_type": "stream",
     "text": [
      "Значение Z-оценки:1.959963984540054\n"
     ]
    }
   ],
   "source": [
    "import scipy.stats as st\n",
    "Z_quantile = (1 + 0.95)/2\n",
    "Z = st.norm.ppf(Z_quantile)\n",
    "print(f\"Значение Z-оценки:{Z}\")\n"
   ]
  },
  {
   "cell_type": "code",
   "execution_count": 34,
   "id": "a0a07307",
   "metadata": {},
   "outputs": [
    {
     "name": "stdout",
     "output_type": "stream",
     "text": [
      "Значение выборки больше 16725.698080556947\n"
     ]
    }
   ],
   "source": [
    "n = (Z/0.05)**2 * (Standard_deviation/u)**2\n",
    "print(f\"Значение выборки больше {n}\")"
   ]
  },
  {
   "cell_type": "markdown",
   "id": "7cf6ae81",
   "metadata": {},
   "source": [
    "### Вывод \n",
    "\n",
    "Минимальный объем выборки на основе средней потребности в капитале и на основе доли компаний, у которых потребность в капитале превышает 1 млрд долларов США равен при отклонениях в 5%  с доверительной вероятностью 95% равен **16726**. Полачуается, что при заданных условиях из ГС невозможно получить необходимую выборку (так как объем выборки всего 3000).\n"
   ]
  },
  {
   "cell_type": "markdown",
   "id": "261f446d",
   "metadata": {},
   "source": [
    "## №2 В терминах средней и предельной ошибки"
   ]
  },
  {
   "attachments": {
    "image.png": {
     "image/png": "[encoded data removed]"
    }
   },
   "cell_type": "markdown",
   "id": "dc296de0",
   "metadata": {},
   "source": [
    "Δ = 0,05*Xсред\n",
    "![image.png](attachment:image.png)"
   ]
  },
  {
   "cell_type": "code",
   "execution_count": 49,
   "id": "9d2c57c0",
   "metadata": {},
   "outputs": [
    {
     "name": "stdout",
     "output_type": "stream",
     "text": [
      "Значение t криетрия: 1.9665388125098338\n",
      "Значение предельной ошибки: 22228005774.104683\n"
     ]
    }
   ],
   "source": [
    "from scipy. stats import t\n",
    "# двусторонне значение t критерия \n",
    "t = t.ppf((1 + 0.95)/2, 363-1)\n",
    "# Предельная ошибка \n",
    "d = u*0.05\n",
    "print(f\"Значение t криетрия: {t}\\nЗначение предельной ошибки: {u}\")"
   ]
  },
  {
   "cell_type": "code",
   "execution_count": 51,
   "id": "f4a5ee1a",
   "metadata": {},
   "outputs": [
    {
     "data": {
      "text/plain": [
       "[16838.1012031139]"
      ]
     },
     "execution_count": 51,
     "metadata": {},
     "output_type": "execute_result"
    }
   ],
   "source": [
    "from sympy.solvers import solve\n",
    "from sympy import Symbol\n",
    "n = Symbol('n')\n",
    "solve(t * (D/n)**0.5 - d, n)"
   ]
  },
  {
   "cell_type": "markdown",
   "id": "633325a7",
   "metadata": {},
   "source": [
    "### Вывод: \n",
    "Минимальный объем выборки на основе средней потребности в капитале и на основе доли компаний, у которых потребность в капитале превышает 1 млрд долларов США равен при предельной ошибке в  5%  и с доверительной вероятностью 95% равен **16839**. Полачуается, что при заданных условиях из ГС невозможно получить необходимую выборку ( так как объем выборки всего 3000).\n"
   ]
  },
  {
   "cell_type": "markdown",
   "id": "d2331d0c",
   "metadata": {},
   "source": [
    "## Общий Вывод: и в том и в другом случае по предоставленной выборке фактический объем ГС недостаточен"
   ]
  },
  {
   "cell_type": "code",
   "execution_count": null,
   "id": "68769cf5",
   "metadata": {},
   "outputs": [],
   "source": []
  }
 ],
 "metadata": {
  "kernelspec": {
   "display_name": "Python 3 (ipykernel)",
   "language": "python",
   "name": "python3"
  },
  "language_info": {
   "codemirror_mode": {
    "name": "ipython",
    "version": 3
   },
   "file_extension": ".py",
   "mimetype": "text/x-python",
   "name": "python",
   "nbconvert_exporter": "python",
   "pygments_lexer": "ipython3",
   "version": "3.9.12"
  }
 },
 "nbformat": 4,
 "nbformat_minor": 5
}
